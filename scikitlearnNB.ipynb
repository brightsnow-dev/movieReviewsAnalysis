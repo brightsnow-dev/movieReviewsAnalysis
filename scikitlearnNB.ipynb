
{
 "cells": [
  {
   "cell_type": "code",
   "execution_count": 1,
   "metadata": {
    "collapsed": false
   },
   "outputs": [],
   "source": [
    "import nltk\n",
    "import random\n",
    "from nltk.corpus import movie_reviews\n",
    "from nltk.corpus import stopwords\n",
    "import pickle\n",
    "\n",
    "from nltk.classify.scikitlearn import SklearnClassifier\n",
    "from sklearn.naive_bayes import GaussianNB, MultinomialNB, BernoulliNB\n",
    "\n",
    "from sklearn.linear_model import LogisticRegression, SGDClassifier\n",
    "from sklearn.svm import SVC, LinearSVC, NuSVC"
   ]
  },
  {
   "cell_type": "code",
   "execution_count": 2,
   "metadata": {
    "collapsed": false
   },
   "outputs": [],
   "source": [
    "stop_words = stopwords.words(\"english\")\n",
    "documents = [(list(movie_reviews.words(fileid)), category)\n",
    "            for category in movie_reviews.categories()\n",
    "             for fileid in movie_reviews.fileids(category)\n",
    "            ]\n",
    "random.shuffle(documents)"
   ]
  },
  {
   "cell_type": "code",
   "execution_count": 3,
   "metadata": {
    "collapsed": true
   },
   "outputs": [],
   "source": [
    "all_words = []\n",
    "for w in movie_reviews.words():\n",
    "    all_words.append(w.lower())"
   ]
  },
  {
   "cell_type": "markdown",
   "metadata": {},
   "source": [
    "## Making a frequency distribution of the words"
   ]
  },
  {
   "cell_type": "code",
   "execution_count": 4,
   "metadata": {
    "collapsed": false
   },
   "outputs": [
    {
     "data": {
      "text/plain": [
       "[(',', 77717),\n",
       " ('the', 76529),\n",
       " ('.', 65876),\n",
       " ('a', 38106),\n",
       " ('and', 35576),\n",
       " ('of', 34123),\n",
       " ('to', 31937),\n",
       " (\"'\", 30585),\n",
       " ('is', 25195),\n",
       " ('in', 21822),\n",
       " ('s', 18513),\n",
       " ('\"', 17612),\n",
       " ('it', 16107),\n",
       " ('that', 15924),\n",
       " ('-', 15595),\n",
       " (')', 11781),\n",
       " ('(', 11664),\n",
       " ('as', 11378),\n",
       " ('with', 10792),\n",
       " ('for', 9961)]"
      ]
     },
     "execution_count": 4,
     "metadata": {},
     "output_type": "execute_result"
    }
   ],
   "source": [
    "all_words = nltk.FreqDist(all_words)\n",
    "all_words.most_common(20)"
   ]
  },
  {
   "cell_type": "code",
   "execution_count": 5,
   "metadata": {
    "collapsed": true
   },
   "outputs": [],
   "source": [
    "feature_words = list(all_words.keys())[:5000]\n",
    "def find_features(document):\n",
    "    words = set(document)\n",
    "    feature = {}\n",
    "    for w in feature_words:\n",
    "        feature[w] = (w in words)\n",
    "    return feature"
   ]
  },
  {
   "cell_type": "code",
   "execution_count": 6,
   "metadata": {
    "collapsed": false
   },
   "outputs": [],
   "source": [
    "feature_sets = [(find_features(rev), category) for (rev, category) in documents]"
   ]
  },
  {
   "cell_type": "markdown",
   "metadata": {},
   "source": [
    "### Training the classifier"
   ]
  },
  {
   "cell_type": "code",
   "execution_count": 7,
   "metadata": {
    "collapsed": false
   },
   "outputs": [],
   "source": [
    "training_set = feature_sets[:1900]\n",
    "testing_set = feature_sets[1900:]"
   ]
  },
  {
   "cell_type": "code",
   "execution_count": 8,
   "metadata": {
    "collapsed": false
   },
   "outputs": [
    {
     "name": "stdout",
     "output_type": "stream",
     "text": [
      "Multinomial classifier accuracy :  72.0\n"
     ]
    }
   ],
   "source": [
    "## TO-DO: To build own naive bayes algorithm\n",
    "# classifier = nltk.NaiveBayesClassifier.train(training_set)\n",
    "\n",
    "MNB_classifier = SklearnClassifier(MultinomialNB())\n",
    "MNB_classifier.train(training_set)\n",
    "\n",
    "## saving it in a pickle\n",
    "MNB_pickle = open(\"MNB_pickle.pickle\", \"wb\")\n",
    "pickle.dump(MNB_classifier, MNB_pickle)\n",
    "MNB_pickle.close()\n",
    "print(\"Multinomial classifier accuracy : \", (nltk.classify.accuracy(MNB_classifier, testing_set))*100)"
   ]
  },
  {
   "cell_type": "code",
   "execution_count": 9,
   "metadata": {
    "collapsed": false
   },
   "outputs": [
    {
     "name": "stdout",
     "output_type": "stream",
     "text": [
      "Bernoulli classifier accuracy :  72.0\n"
     ]
    }
   ],
   "source": [
    "## BernoulliNB \n",
    "\n",
    "BNB_classifier = SklearnClassifier(BernoulliNB())\n",
    "BNB_classifier.train(training_set)\n",
    "\n",
    "BNB_pickle = open(\"BNB_pickle.pickle\", \"wb\")\n",
    "pickle.dump(BNB_classifier, BNB_pickle)\n",
    "BNB_pickle.close()\n",
    "\n",
    "print(\"Bernoulli classifier accuracy : \", (nltk.classify.accuracy(BNB_classifier, testing_set))*100)"
   ]
  },
  {
   "cell_type": "code",
   "execution_count": 10,
   "metadata": {
    "collapsed": false
   },
   "outputs": [
    {
     "name": "stdout",
     "output_type": "stream",
     "text": [
      "LogisticRegression_classifier accuracy percent: 74.0\n",
      "SGDClassifier_classifier accuracy percent: 69.0\n",
      "SVC_classifier accuracy percent: 48.0\n",
      "LinearSVC_classifier accuracy percent: 74.0\n",
      "NuSVC_classifier accuracy percent: 74.0\n"
     ]
    }
   ],
   "source": [
    "LogisticRegression_classifier = SklearnClassifier(LogisticRegression())\n",
    "LogisticRegression_classifier.train(training_set)\n",
    "\n",
    "LogisticRegression_pickle = open(\"LogisticRegression.pickle\", \"wb\")\n",
    "pickle.dump(LogisticRegression_classifier, LogisticRegression_pickle)\n",
    "LogisticRegression_pickle.close()\n",
    "\n",
    "print(\"LogisticRegression_classifier accuracy percent:\", (nltk.classify.accuracy(LogisticRegression_classifier, testing_set))*100)\n",
    "\n",
    "SGDClassifier_classifier = SklearnClassifier(SGDClassifier())\n",
    "SGDClassifier_classifier.train(training_set)\n",
    "\n",
    "SGDClassifier_pickle = open(\"SGDClassifier.pickle\", \"wb\")\n",
    "pickle.dump(SGDClassifier_classifier, SGDClassifier_pickle)\n",
    "SGDClassifier_pickle.close()\n",
    "\n",
    "print(\"SGDClassifier_classifier accuracy percent:\", (nltk.classify.accuracy(SGDClassifier_classifier, testing_set))*100)\n",
    "\n",
    "SVC_classifier = SklearnClassifier(SVC())\n",
    "SVC_classifier.train(training_set)\n",
    "\n",
    "SVC_classifier_pickle = open(\"SVC_classifier.pickle\", \"wb\")\n",
    "pickle.dump(SVC_classifier, SVC_classifier_pickle)\n",
    "SVC_classifier_pickle.close()\n",
    "\n",
    "print(\"SVC_classifier accuracy percent:\", (nltk.classify.accuracy(SVC_classifier, testing_set))*100)\n",
    "\n",
    "LinearSVC_classifier = SklearnClassifier(LinearSVC())\n",
    "LinearSVC_classifier.train(training_set)\n",
    "\n",
    "LinearSVC_pickle = open(\"LinearSVC.pickle\", \"wb\")\n",
    "pickle.dump(LinearSVC_classifier, LinearSVC_pickle)\n",
    "LinearSVC_pickle.close()\n",
    "\n",
    "print(\"LinearSVC_classifier accuracy percent:\", (nltk.classify.accuracy(LinearSVC_classifier, testing_set))*100)\n",
    "\n",
    "NuSVC_classifier = SklearnClassifier(NuSVC())\n",
    "NuSVC_classifier.train(training_set)\n",
    "\n",
    "NuSVC_pickle = open(\"LinearSVC.pickle\", \"wb\")\n",
    "pickle.dump(NuSVC_classifier, NuSVC_pickle)\n",
    "NuSVC_pickle.close()\n",
    "\n",
    "print(\"NuSVC_classifier accuracy percent:\", (nltk.classify.accuracy(NuSVC_classifier, testing_set))*100)"
   ]
  },
  {
   "cell_type": "code",
   "execution_count": 12,
   "metadata": {
    "collapsed": false
   },
   "outputs": [
    {
     "name": "stdout",
     "output_type": "stream",
     "text": [
      "Naive bayes classifier accuracy percent: 76.0\n"
     ]
    }
   ],
   "source": [
    "### using the old naive_bayes classifier\n",
    "naive_bayes_pickle = open(\"naivebayes.pickle\", \"rb\")\n",
    "naive_bayes_classifier = pickle.load(naive_bayes_pickle)\n",
    "naive_bayes_pickle.close()\n",
    "\n",
    "print(\"Naive bayes classifier accuracy percent:\", (nltk.classify.accuracy(naive_bayes_classifier, testing_set))*100)"
   ]
  },
  {
   "cell_type": "markdown",
   "metadata": {},
   "source": [
    "## Putting it all together to make a voting system for increasing accuracy\n",
    "\n",
    "### Check out voting_system.ipynb"
   ]
  }
 ],
 "metadata": {
  "kernelspec": {
   "display_name": "Python 3",
   "language": "python",
   "name": "python3"
  },
  "language_info": {
   "codemirror_mode": {
    "name": "ipython",
    "version": 3
   },
   "file_extension": ".py",
   "mimetype": "text/x-python",
   "name": "python",
   "nbconvert_exporter": "python",
   "pygments_lexer": "ipython3",
   "version": "3.5.1"
  }
 },
 "nbformat": 4,
 "nbformat_minor": 0
}
